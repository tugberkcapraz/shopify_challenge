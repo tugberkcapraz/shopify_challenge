{
 "cells": [
  {
   "cell_type": "code",
   "execution_count": 6,
   "metadata": {
    "collapsed": true
   },
   "outputs": [],
   "source": [
    "import pandas as pd\n",
    "import numpy as np\n",
    "from plotnine import *"
   ]
  },
  {
   "cell_type": "markdown",
   "source": [
    "# 1) Python Challenge\n",
    "## Business Understanding\n",
    "\n",
    "On Shopify, we have exactly 100 sneaker shops, and each of these shops sells only one model of shoe. We want to do some analysis of the average order value (AOV). When we look at orders data over a 30 day window, we naively calculate an AOV of $3145.13. Given that we know these shops are selling sneakers, a relatively affordable item, something seems wrong with our analysis.\n",
    "\n",
    "Think about what could be going wrong with our calculation. Think about a better way to evaluate this data.\n",
    "What metric would you report for this dataset?\n",
    "What is its value?\n",
    "\n",
    "\n",
    "\n",
    "### NOTA BENE\n",
    ">> The wording \"..and each of these shops sells only one model of shoe.\" is ambigous. Are all of the 100 shops sell only one model of shoe so that there's no shoe model difference across all the shops? Or each of the shops have only one model which is unique to them? In this notebook I took it as the second way\n"
   ],
   "metadata": {
    "collapsed": false,
    "pycharm": {
     "name": "#%% md\n"
    }
   }
  },
  {
   "cell_type": "markdown",
   "source": [
    "## Data Understanding"
   ],
   "metadata": {
    "collapsed": false,
    "pycharm": {
     "name": "#%% md\n"
    }
   }
  },
  {
   "cell_type": "markdown",
   "source": [
    "Let's first load the data"
   ],
   "metadata": {
    "collapsed": false,
    "pycharm": {
     "name": "#%% md\n"
    }
   }
  },
  {
   "cell_type": "code",
   "execution_count": 3,
   "outputs": [],
   "source": [
    "df = pd.read_excel(\"data.xlsx\")"
   ],
   "metadata": {
    "collapsed": false,
    "pycharm": {
     "name": "#%%\n"
    }
   }
  },
  {
   "cell_type": "code",
   "execution_count": 4,
   "outputs": [
    {
     "data": {
      "text/plain": "      order_id  shop_id  user_id  order_amount  total_items payment_method  \\\n0          1.0     53.0    746.0         224.0          2.0           cash   \n1          2.0     92.0    925.0          90.0          1.0           cash   \n2          3.0     44.0    861.0         144.0          1.0           cash   \n3          4.0     18.0    935.0         156.0          1.0    credit_card   \n4          5.0     18.0    883.0         156.0          1.0    credit_card   \n...        ...      ...      ...           ...          ...            ...   \n4995    4996.0     73.0    993.0         330.0          2.0          debit   \n4996    4997.0     48.0    789.0         234.0          2.0           cash   \n4997    4998.0     56.0    867.0         351.0          3.0           cash   \n4998    4999.0     60.0    825.0         354.0          2.0    credit_card   \n4999    5000.0     44.0    734.0         288.0          2.0          debit   \n\n                  created_at  \n0    2017-03-13 12:36:56.190  \n1    2017-03-03 17:38:51.999  \n2    2017-03-14 04:23:55.595  \n3    2017-03-26 12:43:36.649  \n4    2017-03-01 04:35:10.773  \n...                      ...  \n4995 2017-03-30 13:47:16.597  \n4996 2017-03-16 20:36:16.389  \n4997 2017-03-19 05:42:42.228  \n4998 2017-03-16 14:51:18.188  \n4999 2017-03-18 15:48:18.205  \n\n[5000 rows x 7 columns]",
      "text/html": "<div>\n<style scoped>\n    .dataframe tbody tr th:only-of-type {\n        vertical-align: middle;\n    }\n\n    .dataframe tbody tr th {\n        vertical-align: top;\n    }\n\n    .dataframe thead th {\n        text-align: right;\n    }\n</style>\n<table border=\"1\" class=\"dataframe\">\n  <thead>\n    <tr style=\"text-align: right;\">\n      <th></th>\n      <th>order_id</th>\n      <th>shop_id</th>\n      <th>user_id</th>\n      <th>order_amount</th>\n      <th>total_items</th>\n      <th>payment_method</th>\n      <th>created_at</th>\n    </tr>\n  </thead>\n  <tbody>\n    <tr>\n      <th>0</th>\n      <td>1.0</td>\n      <td>53.0</td>\n      <td>746.0</td>\n      <td>224.0</td>\n      <td>2.0</td>\n      <td>cash</td>\n      <td>2017-03-13 12:36:56.190</td>\n    </tr>\n    <tr>\n      <th>1</th>\n      <td>2.0</td>\n      <td>92.0</td>\n      <td>925.0</td>\n      <td>90.0</td>\n      <td>1.0</td>\n      <td>cash</td>\n      <td>2017-03-03 17:38:51.999</td>\n    </tr>\n    <tr>\n      <th>2</th>\n      <td>3.0</td>\n      <td>44.0</td>\n      <td>861.0</td>\n      <td>144.0</td>\n      <td>1.0</td>\n      <td>cash</td>\n      <td>2017-03-14 04:23:55.595</td>\n    </tr>\n    <tr>\n      <th>3</th>\n      <td>4.0</td>\n      <td>18.0</td>\n      <td>935.0</td>\n      <td>156.0</td>\n      <td>1.0</td>\n      <td>credit_card</td>\n      <td>2017-03-26 12:43:36.649</td>\n    </tr>\n    <tr>\n      <th>4</th>\n      <td>5.0</td>\n      <td>18.0</td>\n      <td>883.0</td>\n      <td>156.0</td>\n      <td>1.0</td>\n      <td>credit_card</td>\n      <td>2017-03-01 04:35:10.773</td>\n    </tr>\n    <tr>\n      <th>...</th>\n      <td>...</td>\n      <td>...</td>\n      <td>...</td>\n      <td>...</td>\n      <td>...</td>\n      <td>...</td>\n      <td>...</td>\n    </tr>\n    <tr>\n      <th>4995</th>\n      <td>4996.0</td>\n      <td>73.0</td>\n      <td>993.0</td>\n      <td>330.0</td>\n      <td>2.0</td>\n      <td>debit</td>\n      <td>2017-03-30 13:47:16.597</td>\n    </tr>\n    <tr>\n      <th>4996</th>\n      <td>4997.0</td>\n      <td>48.0</td>\n      <td>789.0</td>\n      <td>234.0</td>\n      <td>2.0</td>\n      <td>cash</td>\n      <td>2017-03-16 20:36:16.389</td>\n    </tr>\n    <tr>\n      <th>4997</th>\n      <td>4998.0</td>\n      <td>56.0</td>\n      <td>867.0</td>\n      <td>351.0</td>\n      <td>3.0</td>\n      <td>cash</td>\n      <td>2017-03-19 05:42:42.228</td>\n    </tr>\n    <tr>\n      <th>4998</th>\n      <td>4999.0</td>\n      <td>60.0</td>\n      <td>825.0</td>\n      <td>354.0</td>\n      <td>2.0</td>\n      <td>credit_card</td>\n      <td>2017-03-16 14:51:18.188</td>\n    </tr>\n    <tr>\n      <th>4999</th>\n      <td>5000.0</td>\n      <td>44.0</td>\n      <td>734.0</td>\n      <td>288.0</td>\n      <td>2.0</td>\n      <td>debit</td>\n      <td>2017-03-18 15:48:18.205</td>\n    </tr>\n  </tbody>\n</table>\n<p>5000 rows × 7 columns</p>\n</div>"
     },
     "execution_count": 4,
     "metadata": {},
     "output_type": "execute_result"
    }
   ],
   "source": [
    "df"
   ],
   "metadata": {
    "collapsed": false,
    "pycharm": {
     "name": "#%%\n"
    }
   }
  },
  {
   "cell_type": "markdown",
   "source": [
    "check the data types"
   ],
   "metadata": {
    "collapsed": false,
    "pycharm": {
     "name": "#%% md\n"
    }
   }
  },
  {
   "cell_type": "code",
   "execution_count": 5,
   "outputs": [
    {
     "data": {
      "text/plain": "order_id                 float64\nshop_id                  float64\nuser_id                  float64\norder_amount             float64\ntotal_items              float64\npayment_method            object\ncreated_at        datetime64[ns]\ndtype: object"
     },
     "execution_count": 5,
     "metadata": {},
     "output_type": "execute_result"
    }
   ],
   "source": [
    "df.dtypes"
   ],
   "metadata": {
    "collapsed": false,
    "pycharm": {
     "name": "#%%\n"
    }
   }
  },
  {
   "cell_type": "code",
   "execution_count": 8,
   "outputs": [
    {
     "name": "stdout",
     "output_type": "stream",
     "text": [
      "2017-03-01 00:08:09.179000\n"
     ]
    }
   ],
   "source": [
    "print(df.created_at.min())"
   ],
   "metadata": {
    "collapsed": false,
    "pycharm": {
     "name": "#%%\n"
    }
   }
  },
  {
   "cell_type": "code",
   "execution_count": 9,
   "outputs": [
    {
     "name": "stdout",
     "output_type": "stream",
     "text": [
      "2017-03-30 23:55:35.408000\n"
     ]
    }
   ],
   "source": [
    "print(df.created_at.max())"
   ],
   "metadata": {
    "collapsed": false,
    "pycharm": {
     "name": "#%%\n"
    }
   }
  },
  {
   "cell_type": "markdown",
   "source": [
    "Min - max range of time variable shows that we only have one month of data. So, I don't have to make monthly cuts within this data. This makes it lot easier for sure"
   ],
   "metadata": {
    "collapsed": false,
    "pycharm": {
     "name": "#%% md\n"
    }
   }
  },
  {
   "cell_type": "code",
   "execution_count": 11,
   "outputs": [
    {
     "name": "stdout",
     "output_type": "stream",
     "text": [
      "3145.128\n"
     ]
    }
   ],
   "source": [
    "print(df.order_amount.mean())"
   ],
   "metadata": {
    "collapsed": false,
    "pycharm": {
     "name": "#%%\n"
    }
   }
  },
  {
   "cell_type": "code",
   "execution_count": 73,
   "outputs": [
    {
     "data": {
      "text/plain": "284.0"
     },
     "execution_count": 73,
     "metadata": {},
     "output_type": "execute_result"
    }
   ],
   "source": [
    "df.order_amount.median()"
   ],
   "metadata": {
    "collapsed": false,
    "pycharm": {
     "name": "#%%\n"
    }
   }
  },
  {
   "cell_type": "markdown",
   "source": [
    "The amount I printed above is the median order value which is robust to outliers. This seems pretty neutral. But what went wrong with our first measure? The business asked this. Let's check the distribution. First I want to see the ranges."
   ],
   "metadata": {
    "collapsed": false,
    "pycharm": {
     "name": "#%% md\n"
    }
   }
  },
  {
   "cell_type": "code",
   "execution_count": 16,
   "outputs": [
    {
     "name": "stdout",
     "output_type": "stream",
     "text": [
      "minimum order amount is 90.0\n"
     ]
    }
   ],
   "source": [
    "print(\"minimum order amount is {}\".format(df.order_amount.min()))"
   ],
   "metadata": {
    "collapsed": false,
    "pycharm": {
     "name": "#%%\n"
    }
   }
  },
  {
   "cell_type": "code",
   "execution_count": 17,
   "outputs": [
    {
     "name": "stdout",
     "output_type": "stream",
     "text": [
      "maximum order amount is 704000.0\n"
     ]
    }
   ],
   "source": [
    "print(\"maximum order amount is {}\".format(df.order_amount.max()))"
   ],
   "metadata": {
    "collapsed": false,
    "pycharm": {
     "name": "#%%\n"
    }
   }
  },
  {
   "cell_type": "markdown",
   "source": [
    "704.000 of order size is definitely huge. That's really suspicious. I would like check histogram to see distribution"
   ],
   "metadata": {
    "collapsed": false,
    "pycharm": {
     "name": "#%% md\n"
    }
   }
  },
  {
   "cell_type": "code",
   "execution_count": 77,
   "outputs": [
    {
     "data": {
      "text/plain": "<Figure size 640x480 with 1 Axes>",
      "image/png": "[encoded data removed]"
     },
     "metadata": {},
     "output_type": "display_data"
    },
    {
     "data": {
      "text/plain": "<ggplot: (8784101006617)>"
     },
     "execution_count": 77,
     "metadata": {},
     "output_type": "execute_result"
    }
   ],
   "source": [
    "(ggplot(df, aes(x=\"order_amount\")) +\n",
    " geom_histogram(bins=10, color=\"red\") +\n",
    " ggtitle(\"Order Amount\") +\n",
    " xlab(\"Order Amount per Single Order\") +\n",
    " ylab(\"Count\")\n",
    " )"
   ],
   "metadata": {
    "collapsed": false,
    "pycharm": {
     "name": "#%%\n"
    }
   }
  },
  {
   "cell_type": "code",
   "execution_count": 31,
   "outputs": [
    {
     "data": {
      "text/plain": "<Figure size 640x480 with 1 Axes>",
      "image/png": "[encoded data removed]"
     },
     "metadata": {},
     "output_type": "display_data"
    },
    {
     "data": {
      "text/plain": "<ggplot: (8784101395613)>"
     },
     "execution_count": 31,
     "metadata": {},
     "output_type": "execute_result"
    }
   ],
   "source": [
    "(ggplot(df, aes(x=\"total_items\")) +\n",
    " geom_histogram(bins=10, color=\"red\") +\n",
    " ggtitle(\"Total Items\") +\n",
    " xlab(\"Number of Total Items in an Order\") +\n",
    " ylab(\"Count\")\n",
    " )"
   ],
   "metadata": {
    "collapsed": false,
    "pycharm": {
     "name": "#%%\n"
    }
   }
  },
  {
   "cell_type": "markdown",
   "source": [
    "The first thing to explore in these two plots are the huge empty space between bins. There are basically no observations betwen them. So we observe either small order amounts(expectancy) or terribly huge amounts(deviation). This is really dubious. Next thing to check how many users and shops are responsible for this.\n",
    "\n",
    "I first groupby the sales by shop_id and user_id and get the mean order_amount"
   ],
   "metadata": {
    "collapsed": false,
    "pycharm": {
     "name": "#%% md\n"
    }
   }
  },
  {
   "cell_type": "code",
   "execution_count": 57,
   "outputs": [],
   "source": [
    "order_by_user = df.groupby([\"shop_id\", \"user_id\"])[\"order_amount\"].sum().reset_index().sort_values(\"order_amount\", ascending=False)"
   ],
   "metadata": {
    "collapsed": false,
    "pycharm": {
     "name": "#%%\n"
    }
   }
  },
  {
   "cell_type": "markdown",
   "source": [
    "The grouped dataframe is already sorted descending. Let's see top 50"
   ],
   "metadata": {
    "collapsed": false,
    "pycharm": {
     "name": "#%% md\n"
    }
   }
  },
  {
   "cell_type": "code",
   "execution_count": 58,
   "outputs": [
    {
     "data": {
      "text/plain": "      shop_id  user_id  order_amount\n1927     42.0    607.0    11968000.0\n3578     78.0    878.0      154350.0\n3571     78.0    834.0      102900.0\n3568     78.0    818.0       77175.0\n3561     78.0    775.0       77175.0\n3573     78.0    855.0       77175.0\n3583     78.0    915.0       77175.0\n3562     78.0    787.0       77175.0\n3585     78.0    928.0       77175.0\n3560     78.0    766.0       77175.0\n3591     78.0    962.0       77175.0\n3593     78.0    969.0       77175.0\n3567     78.0    817.0       77175.0\n3566     78.0    814.0       51450.0\n3559     78.0    760.0       51450.0\n3558     78.0    756.0       51450.0\n3555     78.0    709.0       51450.0\n3564     78.0    810.0       51450.0\n3577     78.0    869.0       51450.0\n3570     78.0    828.0       51450.0\n3584     78.0    927.0       51450.0\n3586     78.0    935.0       51450.0\n3587     78.0    936.0       51450.0\n3589     78.0    946.0       51450.0\n3590     78.0    960.0       51450.0\n3592     78.0    967.0       51450.0\n3554     78.0    707.0       51450.0\n3596     78.0    983.0       51450.0\n3582     78.0    912.0       25725.0\n3563     78.0    800.0       25725.0\n3580     78.0    890.0       25725.0\n3594     78.0    970.0       25725.0\n3579     78.0    889.0       25725.0\n3597     78.0    990.0       25725.0\n3576     78.0    867.0       25725.0\n3598     78.0    997.0       25725.0\n3556     78.0    740.0       25725.0\n3595     78.0    982.0       25725.0\n3557     78.0    745.0       25725.0\n3572     78.0    852.0       25725.0\n3575     78.0    866.0       25725.0\n3588     78.0    944.0       25725.0\n3569     78.0    823.0       25725.0\n3574     78.0    861.0       25725.0\n3565     78.0    812.0       25725.0\n3581     78.0    910.0       25725.0\n1939     42.0    797.0        1760.0\n1942     42.0    819.0        1760.0\n3689     80.0    990.0        1450.0\n1950     42.0    907.0        1408.0",
      "text/html": "<div>\n<style scoped>\n    .dataframe tbody tr th:only-of-type {\n        vertical-align: middle;\n    }\n\n    .dataframe tbody tr th {\n        vertical-align: top;\n    }\n\n    .dataframe thead th {\n        text-align: right;\n    }\n</style>\n<table border=\"1\" class=\"dataframe\">\n  <thead>\n    <tr style=\"text-align: right;\">\n      <th></th>\n      <th>shop_id</th>\n      <th>user_id</th>\n      <th>order_amount</th>\n    </tr>\n  </thead>\n  <tbody>\n    <tr>\n      <th>1927</th>\n      <td>42.0</td>\n      <td>607.0</td>\n      <td>11968000.0</td>\n    </tr>\n    <tr>\n      <th>3578</th>\n      <td>78.0</td>\n      <td>878.0</td>\n      <td>154350.0</td>\n    </tr>\n    <tr>\n      <th>3571</th>\n      <td>78.0</td>\n      <td>834.0</td>\n      <td>102900.0</td>\n    </tr>\n    <tr>\n      <th>3568</th>\n      <td>78.0</td>\n      <td>818.0</td>\n      <td>77175.0</td>\n    </tr>\n    <tr>\n      <th>3561</th>\n      <td>78.0</td>\n      <td>775.0</td>\n      <td>77175.0</td>\n    </tr>\n    <tr>\n      <th>3573</th>\n      <td>78.0</td>\n      <td>855.0</td>\n      <td>77175.0</td>\n    </tr>\n    <tr>\n      <th>3583</th>\n      <td>78.0</td>\n      <td>915.0</td>\n      <td>77175.0</td>\n    </tr>\n    <tr>\n      <th>3562</th>\n      <td>78.0</td>\n      <td>787.0</td>\n      <td>77175.0</td>\n    </tr>\n    <tr>\n      <th>3585</th>\n      <td>78.0</td>\n      <td>928.0</td>\n      <td>77175.0</td>\n    </tr>\n    <tr>\n      <th>3560</th>\n      <td>78.0</td>\n      <td>766.0</td>\n      <td>77175.0</td>\n    </tr>\n    <tr>\n      <th>3591</th>\n      <td>78.0</td>\n      <td>962.0</td>\n      <td>77175.0</td>\n    </tr>\n    <tr>\n      <th>3593</th>\n      <td>78.0</td>\n      <td>969.0</td>\n      <td>77175.0</td>\n    </tr>\n    <tr>\n      <th>3567</th>\n      <td>78.0</td>\n      <td>817.0</td>\n      <td>77175.0</td>\n    </tr>\n    <tr>\n      <th>3566</th>\n      <td>78.0</td>\n      <td>814.0</td>\n      <td>51450.0</td>\n    </tr>\n    <tr>\n      <th>3559</th>\n      <td>78.0</td>\n      <td>760.0</td>\n      <td>51450.0</td>\n    </tr>\n    <tr>\n      <th>3558</th>\n      <td>78.0</td>\n      <td>756.0</td>\n      <td>51450.0</td>\n    </tr>\n    <tr>\n      <th>3555</th>\n      <td>78.0</td>\n      <td>709.0</td>\n      <td>51450.0</td>\n    </tr>\n    <tr>\n      <th>3564</th>\n      <td>78.0</td>\n      <td>810.0</td>\n      <td>51450.0</td>\n    </tr>\n    <tr>\n      <th>3577</th>\n      <td>78.0</td>\n      <td>869.0</td>\n      <td>51450.0</td>\n    </tr>\n    <tr>\n      <th>3570</th>\n      <td>78.0</td>\n      <td>828.0</td>\n      <td>51450.0</td>\n    </tr>\n    <tr>\n      <th>3584</th>\n      <td>78.0</td>\n      <td>927.0</td>\n      <td>51450.0</td>\n    </tr>\n    <tr>\n      <th>3586</th>\n      <td>78.0</td>\n      <td>935.0</td>\n      <td>51450.0</td>\n    </tr>\n    <tr>\n      <th>3587</th>\n      <td>78.0</td>\n      <td>936.0</td>\n      <td>51450.0</td>\n    </tr>\n    <tr>\n      <th>3589</th>\n      <td>78.0</td>\n      <td>946.0</td>\n      <td>51450.0</td>\n    </tr>\n    <tr>\n      <th>3590</th>\n      <td>78.0</td>\n      <td>960.0</td>\n      <td>51450.0</td>\n    </tr>\n    <tr>\n      <th>3592</th>\n      <td>78.0</td>\n      <td>967.0</td>\n      <td>51450.0</td>\n    </tr>\n    <tr>\n      <th>3554</th>\n      <td>78.0</td>\n      <td>707.0</td>\n      <td>51450.0</td>\n    </tr>\n    <tr>\n      <th>3596</th>\n      <td>78.0</td>\n      <td>983.0</td>\n      <td>51450.0</td>\n    </tr>\n    <tr>\n      <th>3582</th>\n      <td>78.0</td>\n      <td>912.0</td>\n      <td>25725.0</td>\n    </tr>\n    <tr>\n      <th>3563</th>\n      <td>78.0</td>\n      <td>800.0</td>\n      <td>25725.0</td>\n    </tr>\n    <tr>\n      <th>3580</th>\n      <td>78.0</td>\n      <td>890.0</td>\n      <td>25725.0</td>\n    </tr>\n    <tr>\n      <th>3594</th>\n      <td>78.0</td>\n      <td>970.0</td>\n      <td>25725.0</td>\n    </tr>\n    <tr>\n      <th>3579</th>\n      <td>78.0</td>\n      <td>889.0</td>\n      <td>25725.0</td>\n    </tr>\n    <tr>\n      <th>3597</th>\n      <td>78.0</td>\n      <td>990.0</td>\n      <td>25725.0</td>\n    </tr>\n    <tr>\n      <th>3576</th>\n      <td>78.0</td>\n      <td>867.0</td>\n      <td>25725.0</td>\n    </tr>\n    <tr>\n      <th>3598</th>\n      <td>78.0</td>\n      <td>997.0</td>\n      <td>25725.0</td>\n    </tr>\n    <tr>\n      <th>3556</th>\n      <td>78.0</td>\n      <td>740.0</td>\n      <td>25725.0</td>\n    </tr>\n    <tr>\n      <th>3595</th>\n      <td>78.0</td>\n      <td>982.0</td>\n      <td>25725.0</td>\n    </tr>\n    <tr>\n      <th>3557</th>\n      <td>78.0</td>\n      <td>745.0</td>\n      <td>25725.0</td>\n    </tr>\n    <tr>\n      <th>3572</th>\n      <td>78.0</td>\n      <td>852.0</td>\n      <td>25725.0</td>\n    </tr>\n    <tr>\n      <th>3575</th>\n      <td>78.0</td>\n      <td>866.0</td>\n      <td>25725.0</td>\n    </tr>\n    <tr>\n      <th>3588</th>\n      <td>78.0</td>\n      <td>944.0</td>\n      <td>25725.0</td>\n    </tr>\n    <tr>\n      <th>3569</th>\n      <td>78.0</td>\n      <td>823.0</td>\n      <td>25725.0</td>\n    </tr>\n    <tr>\n      <th>3574</th>\n      <td>78.0</td>\n      <td>861.0</td>\n      <td>25725.0</td>\n    </tr>\n    <tr>\n      <th>3565</th>\n      <td>78.0</td>\n      <td>812.0</td>\n      <td>25725.0</td>\n    </tr>\n    <tr>\n      <th>3581</th>\n      <td>78.0</td>\n      <td>910.0</td>\n      <td>25725.0</td>\n    </tr>\n    <tr>\n      <th>1939</th>\n      <td>42.0</td>\n      <td>797.0</td>\n      <td>1760.0</td>\n    </tr>\n    <tr>\n      <th>1942</th>\n      <td>42.0</td>\n      <td>819.0</td>\n      <td>1760.0</td>\n    </tr>\n    <tr>\n      <th>3689</th>\n      <td>80.0</td>\n      <td>990.0</td>\n      <td>1450.0</td>\n    </tr>\n    <tr>\n      <th>1950</th>\n      <td>42.0</td>\n      <td>907.0</td>\n      <td>1408.0</td>\n    </tr>\n  </tbody>\n</table>\n</div>"
     },
     "execution_count": 58,
     "metadata": {},
     "output_type": "execute_result"
    }
   ],
   "source": [
    "order_by_user.head(50)"
   ],
   "metadata": {
    "collapsed": false,
    "pycharm": {
     "name": "#%%\n"
    }
   }
  },
  {
   "cell_type": "markdown",
   "source": [
    "There are few worth noting things here. First, shop_id 78 is occuring more than 40 times. So, most of those extreme values are coming from single shop. Is it a fraud? We can't tell it for sure because a brief google search revealed that there are premium shoe stores that are specialized in selling unique shoes that are signed by elite athletes etc. Let's dig further"
   ],
   "metadata": {
    "collapsed": false,
    "pycharm": {
     "name": "#%% md\n"
    }
   }
  },
  {
   "cell_type": "code",
   "execution_count": 72,
   "outputs": [
    {
     "data": {
      "text/plain": "      order_id  shop_id  user_id  order_amount  total_items payment_method  \\\n160      161.0     78.0    990.0       25725.0          1.0    credit_card   \n490      491.0     78.0    936.0       51450.0          2.0          debit   \n493      494.0     78.0    983.0       51450.0          2.0           cash   \n511      512.0     78.0    967.0       51450.0          2.0           cash   \n617      618.0     78.0    760.0       51450.0          2.0           cash   \n691      692.0     78.0    878.0      154350.0          6.0          debit   \n1056    1057.0     78.0    800.0       25725.0          1.0          debit   \n1193    1194.0     78.0    944.0       25725.0          1.0          debit   \n1204    1205.0     78.0    970.0       25725.0          1.0    credit_card   \n1259    1260.0     78.0    775.0       77175.0          3.0    credit_card   \n1384    1385.0     78.0    867.0       25725.0          1.0           cash   \n1419    1420.0     78.0    912.0       25725.0          1.0           cash   \n1452    1453.0     78.0    812.0       25725.0          1.0    credit_card   \n1529    1530.0     78.0    810.0       51450.0          2.0           cash   \n2270    2271.0     78.0    855.0       25725.0          1.0    credit_card   \n2452    2453.0     78.0    709.0       51450.0          2.0           cash   \n2492    2493.0     78.0    834.0      102900.0          4.0          debit   \n2495    2496.0     78.0    707.0       51450.0          2.0           cash   \n2512    2513.0     78.0    935.0       51450.0          2.0          debit   \n2548    2549.0     78.0    861.0       25725.0          1.0           cash   \n2564    2565.0     78.0    915.0       77175.0          3.0          debit   \n2690    2691.0     78.0    962.0       77175.0          3.0          debit   \n2773    2774.0     78.0    890.0       25725.0          1.0           cash   \n2818    2819.0     78.0    869.0       51450.0          2.0          debit   \n2821    2822.0     78.0    814.0       51450.0          2.0           cash   \n2906    2907.0     78.0    817.0       77175.0          3.0          debit   \n2922    2923.0     78.0    740.0       25725.0          1.0          debit   \n3085    3086.0     78.0    910.0       25725.0          1.0           cash   \n3101    3102.0     78.0    855.0       51450.0          2.0    credit_card   \n3151    3152.0     78.0    745.0       25725.0          1.0    credit_card   \n3167    3168.0     78.0    927.0       51450.0          2.0           cash   \n3403    3404.0     78.0    928.0       77175.0          3.0          debit   \n3440    3441.0     78.0    982.0       25725.0          1.0          debit   \n3705    3706.0     78.0    828.0       51450.0          2.0    credit_card   \n3724    3725.0     78.0    766.0       77175.0          3.0    credit_card   \n3780    3781.0     78.0    889.0       25725.0          1.0           cash   \n4040    4041.0     78.0    852.0       25725.0          1.0           cash   \n4079    4080.0     78.0    946.0       51450.0          2.0           cash   \n4192    4193.0     78.0    787.0       77175.0          3.0    credit_card   \n4311    4312.0     78.0    960.0       51450.0          2.0          debit   \n4412    4413.0     78.0    756.0       51450.0          2.0          debit   \n4420    4421.0     78.0    969.0       77175.0          3.0          debit   \n4505    4506.0     78.0    866.0       25725.0          1.0          debit   \n4584    4585.0     78.0    997.0       25725.0          1.0           cash   \n4715    4716.0     78.0    818.0       77175.0          3.0          debit   \n4918    4919.0     78.0    823.0       25725.0          1.0           cash   \n\n                  created_at  \n160  2017-03-12 05:56:56.834  \n490  2017-03-26 17:08:18.911  \n493  2017-03-16 21:39:35.400  \n511  2017-03-09 07:23:13.640  \n617  2017-03-18 11:18:41.848  \n691  2017-03-27 22:51:43.203  \n1056 2017-03-15 10:16:44.830  \n1193 2017-03-16 16:38:25.551  \n1204 2017-03-17 22:32:21.438  \n1259 2017-03-27 09:27:19.843  \n1384 2017-03-17 16:38:06.279  \n1419 2017-03-30 12:23:42.551  \n1452 2017-03-17 18:09:54.089  \n1529 2017-03-29 07:12:01.466  \n2270 2017-03-14 23:58:21.635  \n2452 2017-03-27 11:04:04.363  \n2492 2017-03-04 04:37:33.848  \n2495 2017-03-26 04:38:52.497  \n2512 2017-03-18 18:57:13.421  \n2548 2017-03-17 19:35:59.663  \n2564 2017-03-25 01:19:35.410  \n2690 2017-03-22 07:33:25.104  \n2773 2017-03-26 10:36:43.445  \n2818 2017-03-17 06:25:50.921  \n2821 2017-03-02 17:13:25.271  \n2906 2017-03-16 03:45:46.089  \n2922 2017-03-12 20:10:58.008  \n3085 2017-03-26 01:59:26.748  \n3101 2017-03-21 05:10:34.147  \n3151 2017-03-18 13:13:07.198  \n3167 2017-03-12 12:23:07.516  \n3403 2017-03-16 09:45:04.544  \n3440 2017-03-19 19:02:53.732  \n3705 2017-03-14 20:43:14.502  \n3724 2017-03-16 14:13:25.868  \n3780 2017-03-11 21:14:49.542  \n4040 2017-03-02 14:31:11.566  \n4079 2017-03-20 21:13:59.919  \n4192 2017-03-18 09:25:31.863  \n4311 2017-03-01 03:02:10.223  \n4412 2017-03-02 04:13:38.530  \n4420 2017-03-09 15:21:34.551  \n4505 2017-03-22 22:06:00.804  \n4584 2017-03-25 21:48:43.570  \n4715 2017-03-05 05:10:43.633  \n4918 2017-03-15 13:26:46.262  ",
      "text/html": "<div>\n<style scoped>\n    .dataframe tbody tr th:only-of-type {\n        vertical-align: middle;\n    }\n\n    .dataframe tbody tr th {\n        vertical-align: top;\n    }\n\n    .dataframe thead th {\n        text-align: right;\n    }\n</style>\n<table border=\"1\" class=\"dataframe\">\n  <thead>\n    <tr style=\"text-align: right;\">\n      <th></th>\n      <th>order_id</th>\n      <th>shop_id</th>\n      <th>user_id</th>\n      <th>order_amount</th>\n      <th>total_items</th>\n      <th>payment_method</th>\n      <th>created_at</th>\n    </tr>\n  </thead>\n  <tbody>\n    <tr>\n      <th>160</th>\n      <td>161.0</td>\n      <td>78.0</td>\n      <td>990.0</td>\n      <td>25725.0</td>\n      <td>1.0</td>\n      <td>credit_card</td>\n      <td>2017-03-12 05:56:56.834</td>\n    </tr>\n    <tr>\n      <th>490</th>\n      <td>491.0</td>\n      <td>78.0</td>\n      <td>936.0</td>\n      <td>51450.0</td>\n      <td>2.0</td>\n      <td>debit</td>\n      <td>2017-03-26 17:08:18.911</td>\n    </tr>\n    <tr>\n      <th>493</th>\n      <td>494.0</td>\n      <td>78.0</td>\n      <td>983.0</td>\n      <td>51450.0</td>\n      <td>2.0</td>\n      <td>cash</td>\n      <td>2017-03-16 21:39:35.400</td>\n    </tr>\n    <tr>\n      <th>511</th>\n      <td>512.0</td>\n      <td>78.0</td>\n      <td>967.0</td>\n      <td>51450.0</td>\n      <td>2.0</td>\n      <td>cash</td>\n      <td>2017-03-09 07:23:13.640</td>\n    </tr>\n    <tr>\n      <th>617</th>\n      <td>618.0</td>\n      <td>78.0</td>\n      <td>760.0</td>\n      <td>51450.0</td>\n      <td>2.0</td>\n      <td>cash</td>\n      <td>2017-03-18 11:18:41.848</td>\n    </tr>\n    <tr>\n      <th>691</th>\n      <td>692.0</td>\n      <td>78.0</td>\n      <td>878.0</td>\n      <td>154350.0</td>\n      <td>6.0</td>\n      <td>debit</td>\n      <td>2017-03-27 22:51:43.203</td>\n    </tr>\n    <tr>\n      <th>1056</th>\n      <td>1057.0</td>\n      <td>78.0</td>\n      <td>800.0</td>\n      <td>25725.0</td>\n      <td>1.0</td>\n      <td>debit</td>\n      <td>2017-03-15 10:16:44.830</td>\n    </tr>\n    <tr>\n      <th>1193</th>\n      <td>1194.0</td>\n      <td>78.0</td>\n      <td>944.0</td>\n      <td>25725.0</td>\n      <td>1.0</td>\n      <td>debit</td>\n      <td>2017-03-16 16:38:25.551</td>\n    </tr>\n    <tr>\n      <th>1204</th>\n      <td>1205.0</td>\n      <td>78.0</td>\n      <td>970.0</td>\n      <td>25725.0</td>\n      <td>1.0</td>\n      <td>credit_card</td>\n      <td>2017-03-17 22:32:21.438</td>\n    </tr>\n    <tr>\n      <th>1259</th>\n      <td>1260.0</td>\n      <td>78.0</td>\n      <td>775.0</td>\n      <td>77175.0</td>\n      <td>3.0</td>\n      <td>credit_card</td>\n      <td>2017-03-27 09:27:19.843</td>\n    </tr>\n    <tr>\n      <th>1384</th>\n      <td>1385.0</td>\n      <td>78.0</td>\n      <td>867.0</td>\n      <td>25725.0</td>\n      <td>1.0</td>\n      <td>cash</td>\n      <td>2017-03-17 16:38:06.279</td>\n    </tr>\n    <tr>\n      <th>1419</th>\n      <td>1420.0</td>\n      <td>78.0</td>\n      <td>912.0</td>\n      <td>25725.0</td>\n      <td>1.0</td>\n      <td>cash</td>\n      <td>2017-03-30 12:23:42.551</td>\n    </tr>\n    <tr>\n      <th>1452</th>\n      <td>1453.0</td>\n      <td>78.0</td>\n      <td>812.0</td>\n      <td>25725.0</td>\n      <td>1.0</td>\n      <td>credit_card</td>\n      <td>2017-03-17 18:09:54.089</td>\n    </tr>\n    <tr>\n      <th>1529</th>\n      <td>1530.0</td>\n      <td>78.0</td>\n      <td>810.0</td>\n      <td>51450.0</td>\n      <td>2.0</td>\n      <td>cash</td>\n      <td>2017-03-29 07:12:01.466</td>\n    </tr>\n    <tr>\n      <th>2270</th>\n      <td>2271.0</td>\n      <td>78.0</td>\n      <td>855.0</td>\n      <td>25725.0</td>\n      <td>1.0</td>\n      <td>credit_card</td>\n      <td>2017-03-14 23:58:21.635</td>\n    </tr>\n    <tr>\n      <th>2452</th>\n      <td>2453.0</td>\n      <td>78.0</td>\n      <td>709.0</td>\n      <td>51450.0</td>\n      <td>2.0</td>\n      <td>cash</td>\n      <td>2017-03-27 11:04:04.363</td>\n    </tr>\n    <tr>\n      <th>2492</th>\n      <td>2493.0</td>\n      <td>78.0</td>\n      <td>834.0</td>\n      <td>102900.0</td>\n      <td>4.0</td>\n      <td>debit</td>\n      <td>2017-03-04 04:37:33.848</td>\n    </tr>\n    <tr>\n      <th>2495</th>\n      <td>2496.0</td>\n      <td>78.0</td>\n      <td>707.0</td>\n      <td>51450.0</td>\n      <td>2.0</td>\n      <td>cash</td>\n      <td>2017-03-26 04:38:52.497</td>\n    </tr>\n    <tr>\n      <th>2512</th>\n      <td>2513.0</td>\n      <td>78.0</td>\n      <td>935.0</td>\n      <td>51450.0</td>\n      <td>2.0</td>\n      <td>debit</td>\n      <td>2017-03-18 18:57:13.421</td>\n    </tr>\n    <tr>\n      <th>2548</th>\n      <td>2549.0</td>\n      <td>78.0</td>\n      <td>861.0</td>\n      <td>25725.0</td>\n      <td>1.0</td>\n      <td>cash</td>\n      <td>2017-03-17 19:35:59.663</td>\n    </tr>\n    <tr>\n      <th>2564</th>\n      <td>2565.0</td>\n      <td>78.0</td>\n      <td>915.0</td>\n      <td>77175.0</td>\n      <td>3.0</td>\n      <td>debit</td>\n      <td>2017-03-25 01:19:35.410</td>\n    </tr>\n    <tr>\n      <th>2690</th>\n      <td>2691.0</td>\n      <td>78.0</td>\n      <td>962.0</td>\n      <td>77175.0</td>\n      <td>3.0</td>\n      <td>debit</td>\n      <td>2017-03-22 07:33:25.104</td>\n    </tr>\n    <tr>\n      <th>2773</th>\n      <td>2774.0</td>\n      <td>78.0</td>\n      <td>890.0</td>\n      <td>25725.0</td>\n      <td>1.0</td>\n      <td>cash</td>\n      <td>2017-03-26 10:36:43.445</td>\n    </tr>\n    <tr>\n      <th>2818</th>\n      <td>2819.0</td>\n      <td>78.0</td>\n      <td>869.0</td>\n      <td>51450.0</td>\n      <td>2.0</td>\n      <td>debit</td>\n      <td>2017-03-17 06:25:50.921</td>\n    </tr>\n    <tr>\n      <th>2821</th>\n      <td>2822.0</td>\n      <td>78.0</td>\n      <td>814.0</td>\n      <td>51450.0</td>\n      <td>2.0</td>\n      <td>cash</td>\n      <td>2017-03-02 17:13:25.271</td>\n    </tr>\n    <tr>\n      <th>2906</th>\n      <td>2907.0</td>\n      <td>78.0</td>\n      <td>817.0</td>\n      <td>77175.0</td>\n      <td>3.0</td>\n      <td>debit</td>\n      <td>2017-03-16 03:45:46.089</td>\n    </tr>\n    <tr>\n      <th>2922</th>\n      <td>2923.0</td>\n      <td>78.0</td>\n      <td>740.0</td>\n      <td>25725.0</td>\n      <td>1.0</td>\n      <td>debit</td>\n      <td>2017-03-12 20:10:58.008</td>\n    </tr>\n    <tr>\n      <th>3085</th>\n      <td>3086.0</td>\n      <td>78.0</td>\n      <td>910.0</td>\n      <td>25725.0</td>\n      <td>1.0</td>\n      <td>cash</td>\n      <td>2017-03-26 01:59:26.748</td>\n    </tr>\n    <tr>\n      <th>3101</th>\n      <td>3102.0</td>\n      <td>78.0</td>\n      <td>855.0</td>\n      <td>51450.0</td>\n      <td>2.0</td>\n      <td>credit_card</td>\n      <td>2017-03-21 05:10:34.147</td>\n    </tr>\n    <tr>\n      <th>3151</th>\n      <td>3152.0</td>\n      <td>78.0</td>\n      <td>745.0</td>\n      <td>25725.0</td>\n      <td>1.0</td>\n      <td>credit_card</td>\n      <td>2017-03-18 13:13:07.198</td>\n    </tr>\n    <tr>\n      <th>3167</th>\n      <td>3168.0</td>\n      <td>78.0</td>\n      <td>927.0</td>\n      <td>51450.0</td>\n      <td>2.0</td>\n      <td>cash</td>\n      <td>2017-03-12 12:23:07.516</td>\n    </tr>\n    <tr>\n      <th>3403</th>\n      <td>3404.0</td>\n      <td>78.0</td>\n      <td>928.0</td>\n      <td>77175.0</td>\n      <td>3.0</td>\n      <td>debit</td>\n      <td>2017-03-16 09:45:04.544</td>\n    </tr>\n    <tr>\n      <th>3440</th>\n      <td>3441.0</td>\n      <td>78.0</td>\n      <td>982.0</td>\n      <td>25725.0</td>\n      <td>1.0</td>\n      <td>debit</td>\n      <td>2017-03-19 19:02:53.732</td>\n    </tr>\n    <tr>\n      <th>3705</th>\n      <td>3706.0</td>\n      <td>78.0</td>\n      <td>828.0</td>\n      <td>51450.0</td>\n      <td>2.0</td>\n      <td>credit_card</td>\n      <td>2017-03-14 20:43:14.502</td>\n    </tr>\n    <tr>\n      <th>3724</th>\n      <td>3725.0</td>\n      <td>78.0</td>\n      <td>766.0</td>\n      <td>77175.0</td>\n      <td>3.0</td>\n      <td>credit_card</td>\n      <td>2017-03-16 14:13:25.868</td>\n    </tr>\n    <tr>\n      <th>3780</th>\n      <td>3781.0</td>\n      <td>78.0</td>\n      <td>889.0</td>\n      <td>25725.0</td>\n      <td>1.0</td>\n      <td>cash</td>\n      <td>2017-03-11 21:14:49.542</td>\n    </tr>\n    <tr>\n      <th>4040</th>\n      <td>4041.0</td>\n      <td>78.0</td>\n      <td>852.0</td>\n      <td>25725.0</td>\n      <td>1.0</td>\n      <td>cash</td>\n      <td>2017-03-02 14:31:11.566</td>\n    </tr>\n    <tr>\n      <th>4079</th>\n      <td>4080.0</td>\n      <td>78.0</td>\n      <td>946.0</td>\n      <td>51450.0</td>\n      <td>2.0</td>\n      <td>cash</td>\n      <td>2017-03-20 21:13:59.919</td>\n    </tr>\n    <tr>\n      <th>4192</th>\n      <td>4193.0</td>\n      <td>78.0</td>\n      <td>787.0</td>\n      <td>77175.0</td>\n      <td>3.0</td>\n      <td>credit_card</td>\n      <td>2017-03-18 09:25:31.863</td>\n    </tr>\n    <tr>\n      <th>4311</th>\n      <td>4312.0</td>\n      <td>78.0</td>\n      <td>960.0</td>\n      <td>51450.0</td>\n      <td>2.0</td>\n      <td>debit</td>\n      <td>2017-03-01 03:02:10.223</td>\n    </tr>\n    <tr>\n      <th>4412</th>\n      <td>4413.0</td>\n      <td>78.0</td>\n      <td>756.0</td>\n      <td>51450.0</td>\n      <td>2.0</td>\n      <td>debit</td>\n      <td>2017-03-02 04:13:38.530</td>\n    </tr>\n    <tr>\n      <th>4420</th>\n      <td>4421.0</td>\n      <td>78.0</td>\n      <td>969.0</td>\n      <td>77175.0</td>\n      <td>3.0</td>\n      <td>debit</td>\n      <td>2017-03-09 15:21:34.551</td>\n    </tr>\n    <tr>\n      <th>4505</th>\n      <td>4506.0</td>\n      <td>78.0</td>\n      <td>866.0</td>\n      <td>25725.0</td>\n      <td>1.0</td>\n      <td>debit</td>\n      <td>2017-03-22 22:06:00.804</td>\n    </tr>\n    <tr>\n      <th>4584</th>\n      <td>4585.0</td>\n      <td>78.0</td>\n      <td>997.0</td>\n      <td>25725.0</td>\n      <td>1.0</td>\n      <td>cash</td>\n      <td>2017-03-25 21:48:43.570</td>\n    </tr>\n    <tr>\n      <th>4715</th>\n      <td>4716.0</td>\n      <td>78.0</td>\n      <td>818.0</td>\n      <td>77175.0</td>\n      <td>3.0</td>\n      <td>debit</td>\n      <td>2017-03-05 05:10:43.633</td>\n    </tr>\n    <tr>\n      <th>4918</th>\n      <td>4919.0</td>\n      <td>78.0</td>\n      <td>823.0</td>\n      <td>25725.0</td>\n      <td>1.0</td>\n      <td>cash</td>\n      <td>2017-03-15 13:26:46.262</td>\n    </tr>\n  </tbody>\n</table>\n</div>"
     },
     "execution_count": 72,
     "metadata": {},
     "output_type": "execute_result"
    }
   ],
   "source": [
    "df[df.shop_id==78]"
   ],
   "metadata": {
    "collapsed": false,
    "pycharm": {
     "name": "#%%\n"
    }
   }
  },
  {
   "cell_type": "markdown",
   "source": [
    "Well, they have 46 unique orders, and we can't see any absurd number in total_items column. I would think that this shop might be one of those top tier shoes. Their payment method also not revealing any suspicious activity which would make me suspect credit card fraud. They also make cash sales. Now, I'll move on to the second   shop"
   ],
   "metadata": {
    "collapsed": false,
    "pycharm": {
     "name": "#%% md\n"
    }
   }
  },
  {
   "cell_type": "code",
   "execution_count": 62,
   "outputs": [
    {
     "data": {
      "text/plain": "      order_id  shop_id  user_id  order_amount  total_items payment_method  \\\n15        16.0     42.0    607.0      704000.0       2000.0    credit_card   \n40        41.0     42.0    793.0         352.0          1.0    credit_card   \n60        61.0     42.0    607.0      704000.0       2000.0    credit_card   \n308      309.0     42.0    770.0         352.0          1.0    credit_card   \n409      410.0     42.0    904.0         704.0          2.0    credit_card   \n520      521.0     42.0    607.0      704000.0       2000.0    credit_card   \n834      835.0     42.0    792.0         352.0          1.0           cash   \n835      836.0     42.0    819.0         704.0          2.0           cash   \n938      939.0     42.0    808.0        1056.0          3.0    credit_card   \n979      980.0     42.0    744.0         352.0          1.0          debit   \n1104    1105.0     42.0    607.0      704000.0       2000.0    credit_card   \n1362    1363.0     42.0    607.0      704000.0       2000.0    credit_card   \n1364    1365.0     42.0    797.0        1760.0          5.0           cash   \n1367    1368.0     42.0    926.0        1408.0          4.0           cash   \n1436    1437.0     42.0    607.0      704000.0       2000.0    credit_card   \n1471    1472.0     42.0    907.0        1408.0          4.0          debit   \n1512    1513.0     42.0    946.0         352.0          1.0          debit   \n1520    1521.0     42.0    756.0         704.0          2.0          debit   \n1562    1563.0     42.0    607.0      704000.0       2000.0    credit_card   \n1602    1603.0     42.0    607.0      704000.0       2000.0    credit_card   \n1911    1912.0     42.0    739.0         704.0          2.0           cash   \n1929    1930.0     42.0    770.0         352.0          1.0    credit_card   \n2003    2004.0     42.0    934.0         704.0          2.0           cash   \n2018    2019.0     42.0    739.0         352.0          1.0          debit   \n2053    2054.0     42.0    951.0         352.0          1.0          debit   \n2153    2154.0     42.0    607.0      704000.0       2000.0    credit_card   \n2273    2274.0     42.0    747.0         704.0          2.0          debit   \n2297    2298.0     42.0    607.0      704000.0       2000.0    credit_card   \n2491    2492.0     42.0    868.0         704.0          2.0          debit   \n2609    2610.0     42.0    868.0         704.0          2.0          debit   \n2766    2767.0     42.0    970.0         704.0          2.0    credit_card   \n2835    2836.0     42.0    607.0      704000.0       2000.0    credit_card   \n2969    2970.0     42.0    607.0      704000.0       2000.0    credit_card   \n2987    2988.0     42.0    819.0        1056.0          3.0           cash   \n3332    3333.0     42.0    607.0      704000.0       2000.0    credit_card   \n3513    3514.0     42.0    726.0        1056.0          3.0          debit   \n3651    3652.0     42.0    830.0         352.0          1.0    credit_card   \n3697    3698.0     42.0    839.0         352.0          1.0          debit   \n3903    3904.0     42.0    975.0         352.0          1.0          debit   \n3998    3999.0     42.0    886.0         352.0          1.0          debit   \n4056    4057.0     42.0    607.0      704000.0       2000.0    credit_card   \n4231    4232.0     42.0    962.0         352.0          1.0           cash   \n4294    4295.0     42.0    859.0         704.0          2.0           cash   \n4326    4327.0     42.0    788.0         704.0          2.0          debit   \n4421    4422.0     42.0    736.0         704.0          2.0    credit_card   \n4625    4626.0     42.0    809.0         352.0          1.0    credit_card   \n4646    4647.0     42.0    607.0      704000.0       2000.0    credit_card   \n4745    4746.0     42.0    872.0         352.0          1.0          debit   \n4767    4768.0     42.0    720.0         704.0          2.0    credit_card   \n4868    4869.0     42.0    607.0      704000.0       2000.0    credit_card   \n4882    4883.0     42.0    607.0      704000.0       2000.0    credit_card   \n\n                  created_at  \n15   2017-03-07 04:00:00.000  \n40   2017-03-24 14:15:40.649  \n60   2017-03-04 04:00:00.000  \n308  2017-03-11 18:14:38.774  \n409  2017-03-04 14:32:57.621  \n520  2017-03-02 04:00:00.000  \n834  2017-03-25 21:31:24.596  \n835  2017-03-09 14:15:15.136  \n938  2017-03-13 23:43:45.330  \n979  2017-03-12 13:09:03.570  \n1104 2017-03-24 04:00:00.000  \n1362 2017-03-15 04:00:00.000  \n1364 2017-03-10 06:28:21.039  \n1367 2017-03-13 02:38:33.953  \n1436 2017-03-11 04:00:00.000  \n1471 2017-03-12 23:00:21.521  \n1512 2017-03-24 13:35:04.115  \n1520 2017-03-22 13:10:31.448  \n1562 2017-03-19 04:00:00.000  \n1602 2017-03-17 04:00:00.000  \n1911 2017-03-07 05:42:52.154  \n1929 2017-03-17 08:11:13.184  \n2003 2017-03-26 09:21:25.916  \n2018 2017-03-01 12:42:25.759  \n2053 2017-03-19 11:49:12.071  \n2153 2017-03-12 04:00:00.000  \n2273 2017-03-27 20:48:19.095  \n2297 2017-03-07 04:00:00.000  \n2491 2017-03-01 18:33:33.377  \n2609 2017-03-23 18:10:13.529  \n2766 2017-03-05 10:45:41.577  \n2835 2017-03-28 04:00:00.000  \n2969 2017-03-28 04:00:00.000  \n2987 2017-03-03 09:09:25.327  \n3332 2017-03-24 04:00:00.000  \n3513 2017-03-24 17:51:04.520  \n3651 2017-03-24 22:26:57.542  \n3697 2017-03-12 02:45:08.932  \n3903 2017-03-12 01:28:30.852  \n3998 2017-03-09 20:10:40.505  \n4056 2017-03-28 04:00:00.000  \n4231 2017-03-04 00:01:19.133  \n4294 2017-03-24 20:50:39.607  \n4326 2017-03-16 23:37:56.791  \n4421 2017-03-01 12:19:49.175  \n4625 2017-03-11 08:21:26.204  \n4646 2017-03-02 04:00:00.000  \n4745 2017-03-24 00:57:24.130  \n4767 2017-03-14 10:26:08.027  \n4868 2017-03-22 04:00:00.000  \n4882 2017-03-25 04:00:00.000  ",
      "text/html": "<div>\n<style scoped>\n    .dataframe tbody tr th:only-of-type {\n        vertical-align: middle;\n    }\n\n    .dataframe tbody tr th {\n        vertical-align: top;\n    }\n\n    .dataframe thead th {\n        text-align: right;\n    }\n</style>\n<table border=\"1\" class=\"dataframe\">\n  <thead>\n    <tr style=\"text-align: right;\">\n      <th></th>\n      <th>order_id</th>\n      <th>shop_id</th>\n      <th>user_id</th>\n      <th>order_amount</th>\n      <th>total_items</th>\n      <th>payment_method</th>\n      <th>created_at</th>\n    </tr>\n  </thead>\n  <tbody>\n    <tr>\n      <th>15</th>\n      <td>16.0</td>\n      <td>42.0</td>\n      <td>607.0</td>\n      <td>704000.0</td>\n      <td>2000.0</td>\n      <td>credit_card</td>\n      <td>2017-03-07 04:00:00.000</td>\n    </tr>\n    <tr>\n      <th>40</th>\n      <td>41.0</td>\n      <td>42.0</td>\n      <td>793.0</td>\n      <td>352.0</td>\n      <td>1.0</td>\n      <td>credit_card</td>\n      <td>2017-03-24 14:15:40.649</td>\n    </tr>\n    <tr>\n      <th>60</th>\n      <td>61.0</td>\n      <td>42.0</td>\n      <td>607.0</td>\n      <td>704000.0</td>\n      <td>2000.0</td>\n      <td>credit_card</td>\n      <td>2017-03-04 04:00:00.000</td>\n    </tr>\n    <tr>\n      <th>308</th>\n      <td>309.0</td>\n      <td>42.0</td>\n      <td>770.0</td>\n      <td>352.0</td>\n      <td>1.0</td>\n      <td>credit_card</td>\n      <td>2017-03-11 18:14:38.774</td>\n    </tr>\n    <tr>\n      <th>409</th>\n      <td>410.0</td>\n      <td>42.0</td>\n      <td>904.0</td>\n      <td>704.0</td>\n      <td>2.0</td>\n      <td>credit_card</td>\n      <td>2017-03-04 14:32:57.621</td>\n    </tr>\n    <tr>\n      <th>520</th>\n      <td>521.0</td>\n      <td>42.0</td>\n      <td>607.0</td>\n      <td>704000.0</td>\n      <td>2000.0</td>\n      <td>credit_card</td>\n      <td>2017-03-02 04:00:00.000</td>\n    </tr>\n    <tr>\n      <th>834</th>\n      <td>835.0</td>\n      <td>42.0</td>\n      <td>792.0</td>\n      <td>352.0</td>\n      <td>1.0</td>\n      <td>cash</td>\n      <td>2017-03-25 21:31:24.596</td>\n    </tr>\n    <tr>\n      <th>835</th>\n      <td>836.0</td>\n      <td>42.0</td>\n      <td>819.0</td>\n      <td>704.0</td>\n      <td>2.0</td>\n      <td>cash</td>\n      <td>2017-03-09 14:15:15.136</td>\n    </tr>\n    <tr>\n      <th>938</th>\n      <td>939.0</td>\n      <td>42.0</td>\n      <td>808.0</td>\n      <td>1056.0</td>\n      <td>3.0</td>\n      <td>credit_card</td>\n      <td>2017-03-13 23:43:45.330</td>\n    </tr>\n    <tr>\n      <th>979</th>\n      <td>980.0</td>\n      <td>42.0</td>\n      <td>744.0</td>\n      <td>352.0</td>\n      <td>1.0</td>\n      <td>debit</td>\n      <td>2017-03-12 13:09:03.570</td>\n    </tr>\n    <tr>\n      <th>1104</th>\n      <td>1105.0</td>\n      <td>42.0</td>\n      <td>607.0</td>\n      <td>704000.0</td>\n      <td>2000.0</td>\n      <td>credit_card</td>\n      <td>2017-03-24 04:00:00.000</td>\n    </tr>\n    <tr>\n      <th>1362</th>\n      <td>1363.0</td>\n      <td>42.0</td>\n      <td>607.0</td>\n      <td>704000.0</td>\n      <td>2000.0</td>\n      <td>credit_card</td>\n      <td>2017-03-15 04:00:00.000</td>\n    </tr>\n    <tr>\n      <th>1364</th>\n      <td>1365.0</td>\n      <td>42.0</td>\n      <td>797.0</td>\n      <td>1760.0</td>\n      <td>5.0</td>\n      <td>cash</td>\n      <td>2017-03-10 06:28:21.039</td>\n    </tr>\n    <tr>\n      <th>1367</th>\n      <td>1368.0</td>\n      <td>42.0</td>\n      <td>926.0</td>\n      <td>1408.0</td>\n      <td>4.0</td>\n      <td>cash</td>\n      <td>2017-03-13 02:38:33.953</td>\n    </tr>\n    <tr>\n      <th>1436</th>\n      <td>1437.0</td>\n      <td>42.0</td>\n      <td>607.0</td>\n      <td>704000.0</td>\n      <td>2000.0</td>\n      <td>credit_card</td>\n      <td>2017-03-11 04:00:00.000</td>\n    </tr>\n    <tr>\n      <th>1471</th>\n      <td>1472.0</td>\n      <td>42.0</td>\n      <td>907.0</td>\n      <td>1408.0</td>\n      <td>4.0</td>\n      <td>debit</td>\n      <td>2017-03-12 23:00:21.521</td>\n    </tr>\n    <tr>\n      <th>1512</th>\n      <td>1513.0</td>\n      <td>42.0</td>\n      <td>946.0</td>\n      <td>352.0</td>\n      <td>1.0</td>\n      <td>debit</td>\n      <td>2017-03-24 13:35:04.115</td>\n    </tr>\n    <tr>\n      <th>1520</th>\n      <td>1521.0</td>\n      <td>42.0</td>\n      <td>756.0</td>\n      <td>704.0</td>\n      <td>2.0</td>\n      <td>debit</td>\n      <td>2017-03-22 13:10:31.448</td>\n    </tr>\n    <tr>\n      <th>1562</th>\n      <td>1563.0</td>\n      <td>42.0</td>\n      <td>607.0</td>\n      <td>704000.0</td>\n      <td>2000.0</td>\n      <td>credit_card</td>\n      <td>2017-03-19 04:00:00.000</td>\n    </tr>\n    <tr>\n      <th>1602</th>\n      <td>1603.0</td>\n      <td>42.0</td>\n      <td>607.0</td>\n      <td>704000.0</td>\n      <td>2000.0</td>\n      <td>credit_card</td>\n      <td>2017-03-17 04:00:00.000</td>\n    </tr>\n    <tr>\n      <th>1911</th>\n      <td>1912.0</td>\n      <td>42.0</td>\n      <td>739.0</td>\n      <td>704.0</td>\n      <td>2.0</td>\n      <td>cash</td>\n      <td>2017-03-07 05:42:52.154</td>\n    </tr>\n    <tr>\n      <th>1929</th>\n      <td>1930.0</td>\n      <td>42.0</td>\n      <td>770.0</td>\n      <td>352.0</td>\n      <td>1.0</td>\n      <td>credit_card</td>\n      <td>2017-03-17 08:11:13.184</td>\n    </tr>\n    <tr>\n      <th>2003</th>\n      <td>2004.0</td>\n      <td>42.0</td>\n      <td>934.0</td>\n      <td>704.0</td>\n      <td>2.0</td>\n      <td>cash</td>\n      <td>2017-03-26 09:21:25.916</td>\n    </tr>\n    <tr>\n      <th>2018</th>\n      <td>2019.0</td>\n      <td>42.0</td>\n      <td>739.0</td>\n      <td>352.0</td>\n      <td>1.0</td>\n      <td>debit</td>\n      <td>2017-03-01 12:42:25.759</td>\n    </tr>\n    <tr>\n      <th>2053</th>\n      <td>2054.0</td>\n      <td>42.0</td>\n      <td>951.0</td>\n      <td>352.0</td>\n      <td>1.0</td>\n      <td>debit</td>\n      <td>2017-03-19 11:49:12.071</td>\n    </tr>\n    <tr>\n      <th>2153</th>\n      <td>2154.0</td>\n      <td>42.0</td>\n      <td>607.0</td>\n      <td>704000.0</td>\n      <td>2000.0</td>\n      <td>credit_card</td>\n      <td>2017-03-12 04:00:00.000</td>\n    </tr>\n    <tr>\n      <th>2273</th>\n      <td>2274.0</td>\n      <td>42.0</td>\n      <td>747.0</td>\n      <td>704.0</td>\n      <td>2.0</td>\n      <td>debit</td>\n      <td>2017-03-27 20:48:19.095</td>\n    </tr>\n    <tr>\n      <th>2297</th>\n      <td>2298.0</td>\n      <td>42.0</td>\n      <td>607.0</td>\n      <td>704000.0</td>\n      <td>2000.0</td>\n      <td>credit_card</td>\n      <td>2017-03-07 04:00:00.000</td>\n    </tr>\n    <tr>\n      <th>2491</th>\n      <td>2492.0</td>\n      <td>42.0</td>\n      <td>868.0</td>\n      <td>704.0</td>\n      <td>2.0</td>\n      <td>debit</td>\n      <td>2017-03-01 18:33:33.377</td>\n    </tr>\n    <tr>\n      <th>2609</th>\n      <td>2610.0</td>\n      <td>42.0</td>\n      <td>868.0</td>\n      <td>704.0</td>\n      <td>2.0</td>\n      <td>debit</td>\n      <td>2017-03-23 18:10:13.529</td>\n    </tr>\n    <tr>\n      <th>2766</th>\n      <td>2767.0</td>\n      <td>42.0</td>\n      <td>970.0</td>\n      <td>704.0</td>\n      <td>2.0</td>\n      <td>credit_card</td>\n      <td>2017-03-05 10:45:41.577</td>\n    </tr>\n    <tr>\n      <th>2835</th>\n      <td>2836.0</td>\n      <td>42.0</td>\n      <td>607.0</td>\n      <td>704000.0</td>\n      <td>2000.0</td>\n      <td>credit_card</td>\n      <td>2017-03-28 04:00:00.000</td>\n    </tr>\n    <tr>\n      <th>2969</th>\n      <td>2970.0</td>\n      <td>42.0</td>\n      <td>607.0</td>\n      <td>704000.0</td>\n      <td>2000.0</td>\n      <td>credit_card</td>\n      <td>2017-03-28 04:00:00.000</td>\n    </tr>\n    <tr>\n      <th>2987</th>\n      <td>2988.0</td>\n      <td>42.0</td>\n      <td>819.0</td>\n      <td>1056.0</td>\n      <td>3.0</td>\n      <td>cash</td>\n      <td>2017-03-03 09:09:25.327</td>\n    </tr>\n    <tr>\n      <th>3332</th>\n      <td>3333.0</td>\n      <td>42.0</td>\n      <td>607.0</td>\n      <td>704000.0</td>\n      <td>2000.0</td>\n      <td>credit_card</td>\n      <td>2017-03-24 04:00:00.000</td>\n    </tr>\n    <tr>\n      <th>3513</th>\n      <td>3514.0</td>\n      <td>42.0</td>\n      <td>726.0</td>\n      <td>1056.0</td>\n      <td>3.0</td>\n      <td>debit</td>\n      <td>2017-03-24 17:51:04.520</td>\n    </tr>\n    <tr>\n      <th>3651</th>\n      <td>3652.0</td>\n      <td>42.0</td>\n      <td>830.0</td>\n      <td>352.0</td>\n      <td>1.0</td>\n      <td>credit_card</td>\n      <td>2017-03-24 22:26:57.542</td>\n    </tr>\n    <tr>\n      <th>3697</th>\n      <td>3698.0</td>\n      <td>42.0</td>\n      <td>839.0</td>\n      <td>352.0</td>\n      <td>1.0</td>\n      <td>debit</td>\n      <td>2017-03-12 02:45:08.932</td>\n    </tr>\n    <tr>\n      <th>3903</th>\n      <td>3904.0</td>\n      <td>42.0</td>\n      <td>975.0</td>\n      <td>352.0</td>\n      <td>1.0</td>\n      <td>debit</td>\n      <td>2017-03-12 01:28:30.852</td>\n    </tr>\n    <tr>\n      <th>3998</th>\n      <td>3999.0</td>\n      <td>42.0</td>\n      <td>886.0</td>\n      <td>352.0</td>\n      <td>1.0</td>\n      <td>debit</td>\n      <td>2017-03-09 20:10:40.505</td>\n    </tr>\n    <tr>\n      <th>4056</th>\n      <td>4057.0</td>\n      <td>42.0</td>\n      <td>607.0</td>\n      <td>704000.0</td>\n      <td>2000.0</td>\n      <td>credit_card</td>\n      <td>2017-03-28 04:00:00.000</td>\n    </tr>\n    <tr>\n      <th>4231</th>\n      <td>4232.0</td>\n      <td>42.0</td>\n      <td>962.0</td>\n      <td>352.0</td>\n      <td>1.0</td>\n      <td>cash</td>\n      <td>2017-03-04 00:01:19.133</td>\n    </tr>\n    <tr>\n      <th>4294</th>\n      <td>4295.0</td>\n      <td>42.0</td>\n      <td>859.0</td>\n      <td>704.0</td>\n      <td>2.0</td>\n      <td>cash</td>\n      <td>2017-03-24 20:50:39.607</td>\n    </tr>\n    <tr>\n      <th>4326</th>\n      <td>4327.0</td>\n      <td>42.0</td>\n      <td>788.0</td>\n      <td>704.0</td>\n      <td>2.0</td>\n      <td>debit</td>\n      <td>2017-03-16 23:37:56.791</td>\n    </tr>\n    <tr>\n      <th>4421</th>\n      <td>4422.0</td>\n      <td>42.0</td>\n      <td>736.0</td>\n      <td>704.0</td>\n      <td>2.0</td>\n      <td>credit_card</td>\n      <td>2017-03-01 12:19:49.175</td>\n    </tr>\n    <tr>\n      <th>4625</th>\n      <td>4626.0</td>\n      <td>42.0</td>\n      <td>809.0</td>\n      <td>352.0</td>\n      <td>1.0</td>\n      <td>credit_card</td>\n      <td>2017-03-11 08:21:26.204</td>\n    </tr>\n    <tr>\n      <th>4646</th>\n      <td>4647.0</td>\n      <td>42.0</td>\n      <td>607.0</td>\n      <td>704000.0</td>\n      <td>2000.0</td>\n      <td>credit_card</td>\n      <td>2017-03-02 04:00:00.000</td>\n    </tr>\n    <tr>\n      <th>4745</th>\n      <td>4746.0</td>\n      <td>42.0</td>\n      <td>872.0</td>\n      <td>352.0</td>\n      <td>1.0</td>\n      <td>debit</td>\n      <td>2017-03-24 00:57:24.130</td>\n    </tr>\n    <tr>\n      <th>4767</th>\n      <td>4768.0</td>\n      <td>42.0</td>\n      <td>720.0</td>\n      <td>704.0</td>\n      <td>2.0</td>\n      <td>credit_card</td>\n      <td>2017-03-14 10:26:08.027</td>\n    </tr>\n    <tr>\n      <th>4868</th>\n      <td>4869.0</td>\n      <td>42.0</td>\n      <td>607.0</td>\n      <td>704000.0</td>\n      <td>2000.0</td>\n      <td>credit_card</td>\n      <td>2017-03-22 04:00:00.000</td>\n    </tr>\n    <tr>\n      <th>4882</th>\n      <td>4883.0</td>\n      <td>42.0</td>\n      <td>607.0</td>\n      <td>704000.0</td>\n      <td>2000.0</td>\n      <td>credit_card</td>\n      <td>2017-03-25 04:00:00.000</td>\n    </tr>\n  </tbody>\n</table>\n</div>"
     },
     "execution_count": 62,
     "metadata": {},
     "output_type": "execute_result"
    }
   ],
   "source": [
    "df[df.shop_id==42]"
   ],
   "metadata": {
    "collapsed": false,
    "pycharm": {
     "name": "#%%\n"
    }
   }
  },
  {
   "cell_type": "markdown",
   "source": [
    "As for shop 42, this is where it gets little bit trickier. Seems like single user is responsible for all of the extereme orders.\n",
    "What can it be? All of them with credit card. Options are:\n",
    "1) Someone is Making wholesale buy from a retail.\n",
    "2) Some form of card fraud\n",
    "3) Developers edge case testing, thus corrupting the database with fake entries.\n",
    "4) A bug within the system. When certain conditions are met the system saves the entry with additional three zeroes. Look carefully, the shop 42 has records such as 2 item orders with 704$ order amount. And our extreme values exactly follow this pattern. 2 turns into 2000, 704 turns into 704000\n",
    "\n",
    "If it was due to developer activity most probably it wouldn't take the whole month.\n",
    "Credit card frauds do not generally last a month either.\n",
    "the bug theory is also a weak one because then why would user 607 would make repeated orders?\n",
    "Wholesale buying from a retail? If the buyer thinks it's a good deal for their circumstances, why not.\n",
    "\n",
    "With this amount of information at our disposal it's hard to decide whether it's card fraud or any of the theories above or a mix of them. It can well be the case that user 607 is a friendly developer who is trying to fix that bug, that's why repeatedly testing the system at different times."
   ],
   "metadata": {
    "collapsed": false,
    "pycharm": {
     "name": "#%% md\n"
    }
   }
  },
  {
   "cell_type": "code",
   "execution_count": 64,
   "outputs": [
    {
     "data": {
      "text/plain": "      order_id  shop_id  user_id  order_amount  total_items payment_method  \\\n15        16.0     42.0    607.0      704000.0       2000.0    credit_card   \n60        61.0     42.0    607.0      704000.0       2000.0    credit_card   \n520      521.0     42.0    607.0      704000.0       2000.0    credit_card   \n1104    1105.0     42.0    607.0      704000.0       2000.0    credit_card   \n1362    1363.0     42.0    607.0      704000.0       2000.0    credit_card   \n1436    1437.0     42.0    607.0      704000.0       2000.0    credit_card   \n1562    1563.0     42.0    607.0      704000.0       2000.0    credit_card   \n1602    1603.0     42.0    607.0      704000.0       2000.0    credit_card   \n2153    2154.0     42.0    607.0      704000.0       2000.0    credit_card   \n2297    2298.0     42.0    607.0      704000.0       2000.0    credit_card   \n2835    2836.0     42.0    607.0      704000.0       2000.0    credit_card   \n2969    2970.0     42.0    607.0      704000.0       2000.0    credit_card   \n3332    3333.0     42.0    607.0      704000.0       2000.0    credit_card   \n4056    4057.0     42.0    607.0      704000.0       2000.0    credit_card   \n4646    4647.0     42.0    607.0      704000.0       2000.0    credit_card   \n4868    4869.0     42.0    607.0      704000.0       2000.0    credit_card   \n4882    4883.0     42.0    607.0      704000.0       2000.0    credit_card   \n\n              created_at  \n15   2017-03-07 04:00:00  \n60   2017-03-04 04:00:00  \n520  2017-03-02 04:00:00  \n1104 2017-03-24 04:00:00  \n1362 2017-03-15 04:00:00  \n1436 2017-03-11 04:00:00  \n1562 2017-03-19 04:00:00  \n1602 2017-03-17 04:00:00  \n2153 2017-03-12 04:00:00  \n2297 2017-03-07 04:00:00  \n2835 2017-03-28 04:00:00  \n2969 2017-03-28 04:00:00  \n3332 2017-03-24 04:00:00  \n4056 2017-03-28 04:00:00  \n4646 2017-03-02 04:00:00  \n4868 2017-03-22 04:00:00  \n4882 2017-03-25 04:00:00  ",
      "text/html": "<div>\n<style scoped>\n    .dataframe tbody tr th:only-of-type {\n        vertical-align: middle;\n    }\n\n    .dataframe tbody tr th {\n        vertical-align: top;\n    }\n\n    .dataframe thead th {\n        text-align: right;\n    }\n</style>\n<table border=\"1\" class=\"dataframe\">\n  <thead>\n    <tr style=\"text-align: right;\">\n      <th></th>\n      <th>order_id</th>\n      <th>shop_id</th>\n      <th>user_id</th>\n      <th>order_amount</th>\n      <th>total_items</th>\n      <th>payment_method</th>\n      <th>created_at</th>\n    </tr>\n  </thead>\n  <tbody>\n    <tr>\n      <th>15</th>\n      <td>16.0</td>\n      <td>42.0</td>\n      <td>607.0</td>\n      <td>704000.0</td>\n      <td>2000.0</td>\n      <td>credit_card</td>\n      <td>2017-03-07 04:00:00</td>\n    </tr>\n    <tr>\n      <th>60</th>\n      <td>61.0</td>\n      <td>42.0</td>\n      <td>607.0</td>\n      <td>704000.0</td>\n      <td>2000.0</td>\n      <td>credit_card</td>\n      <td>2017-03-04 04:00:00</td>\n    </tr>\n    <tr>\n      <th>520</th>\n      <td>521.0</td>\n      <td>42.0</td>\n      <td>607.0</td>\n      <td>704000.0</td>\n      <td>2000.0</td>\n      <td>credit_card</td>\n      <td>2017-03-02 04:00:00</td>\n    </tr>\n    <tr>\n      <th>1104</th>\n      <td>1105.0</td>\n      <td>42.0</td>\n      <td>607.0</td>\n      <td>704000.0</td>\n      <td>2000.0</td>\n      <td>credit_card</td>\n      <td>2017-03-24 04:00:00</td>\n    </tr>\n    <tr>\n      <th>1362</th>\n      <td>1363.0</td>\n      <td>42.0</td>\n      <td>607.0</td>\n      <td>704000.0</td>\n      <td>2000.0</td>\n      <td>credit_card</td>\n      <td>2017-03-15 04:00:00</td>\n    </tr>\n    <tr>\n      <th>1436</th>\n      <td>1437.0</td>\n      <td>42.0</td>\n      <td>607.0</td>\n      <td>704000.0</td>\n      <td>2000.0</td>\n      <td>credit_card</td>\n      <td>2017-03-11 04:00:00</td>\n    </tr>\n    <tr>\n      <th>1562</th>\n      <td>1563.0</td>\n      <td>42.0</td>\n      <td>607.0</td>\n      <td>704000.0</td>\n      <td>2000.0</td>\n      <td>credit_card</td>\n      <td>2017-03-19 04:00:00</td>\n    </tr>\n    <tr>\n      <th>1602</th>\n      <td>1603.0</td>\n      <td>42.0</td>\n      <td>607.0</td>\n      <td>704000.0</td>\n      <td>2000.0</td>\n      <td>credit_card</td>\n      <td>2017-03-17 04:00:00</td>\n    </tr>\n    <tr>\n      <th>2153</th>\n      <td>2154.0</td>\n      <td>42.0</td>\n      <td>607.0</td>\n      <td>704000.0</td>\n      <td>2000.0</td>\n      <td>credit_card</td>\n      <td>2017-03-12 04:00:00</td>\n    </tr>\n    <tr>\n      <th>2297</th>\n      <td>2298.0</td>\n      <td>42.0</td>\n      <td>607.0</td>\n      <td>704000.0</td>\n      <td>2000.0</td>\n      <td>credit_card</td>\n      <td>2017-03-07 04:00:00</td>\n    </tr>\n    <tr>\n      <th>2835</th>\n      <td>2836.0</td>\n      <td>42.0</td>\n      <td>607.0</td>\n      <td>704000.0</td>\n      <td>2000.0</td>\n      <td>credit_card</td>\n      <td>2017-03-28 04:00:00</td>\n    </tr>\n    <tr>\n      <th>2969</th>\n      <td>2970.0</td>\n      <td>42.0</td>\n      <td>607.0</td>\n      <td>704000.0</td>\n      <td>2000.0</td>\n      <td>credit_card</td>\n      <td>2017-03-28 04:00:00</td>\n    </tr>\n    <tr>\n      <th>3332</th>\n      <td>3333.0</td>\n      <td>42.0</td>\n      <td>607.0</td>\n      <td>704000.0</td>\n      <td>2000.0</td>\n      <td>credit_card</td>\n      <td>2017-03-24 04:00:00</td>\n    </tr>\n    <tr>\n      <th>4056</th>\n      <td>4057.0</td>\n      <td>42.0</td>\n      <td>607.0</td>\n      <td>704000.0</td>\n      <td>2000.0</td>\n      <td>credit_card</td>\n      <td>2017-03-28 04:00:00</td>\n    </tr>\n    <tr>\n      <th>4646</th>\n      <td>4647.0</td>\n      <td>42.0</td>\n      <td>607.0</td>\n      <td>704000.0</td>\n      <td>2000.0</td>\n      <td>credit_card</td>\n      <td>2017-03-02 04:00:00</td>\n    </tr>\n    <tr>\n      <th>4868</th>\n      <td>4869.0</td>\n      <td>42.0</td>\n      <td>607.0</td>\n      <td>704000.0</td>\n      <td>2000.0</td>\n      <td>credit_card</td>\n      <td>2017-03-22 04:00:00</td>\n    </tr>\n    <tr>\n      <th>4882</th>\n      <td>4883.0</td>\n      <td>42.0</td>\n      <td>607.0</td>\n      <td>704000.0</td>\n      <td>2000.0</td>\n      <td>credit_card</td>\n      <td>2017-03-25 04:00:00</td>\n    </tr>\n  </tbody>\n</table>\n</div>"
     },
     "execution_count": 64,
     "metadata": {},
     "output_type": "execute_result"
    }
   ],
   "source": [
    "df[df.user_id==607]"
   ],
   "metadata": {
    "collapsed": false,
    "pycharm": {
     "name": "#%%\n"
    }
   }
  },
  {
   "cell_type": "markdown",
   "source": [
    "Well, assuming that shop 78 is a genuine high profile shop, the only fraudulent or corrupted entries are from user 607."
   ],
   "metadata": {
    "collapsed": false,
    "pycharm": {
     "name": "#%% md\n"
    }
   }
  },
  {
   "cell_type": "code",
   "execution_count": 75,
   "outputs": [
    {
     "name": "stdout",
     "output_type": "stream",
     "text": [
      "754.0919125025085\n"
     ]
    }
   ],
   "source": [
    "print(df[df.user_id!=607][\"order_amount\"].mean())"
   ],
   "metadata": {
    "collapsed": false,
    "pycharm": {
     "name": "#%%\n"
    }
   }
  },
  {
   "cell_type": "markdown",
   "source": [
    "and if we wish to kick out shop 78 as well:"
   ],
   "metadata": {
    "collapsed": false,
    "pycharm": {
     "name": "#%% md\n"
    }
   }
  },
  {
   "cell_type": "code",
   "execution_count": 76,
   "outputs": [
    {
     "name": "stdout",
     "output_type": "stream",
     "text": [
      "302.58051448247926\n"
     ]
    }
   ],
   "source": [
    "print(df[(df.user_id!=607) & (df.shop_id!=78)][\"order_amount\"].mean())"
   ],
   "metadata": {
    "collapsed": false,
    "pycharm": {
     "name": "#%%\n"
    }
   }
  },
  {
   "cell_type": "markdown",
   "source": [
    "## Evaluation\n",
    "As I said above, if each store sells only one pair of shoes that is unique to them, then shop 78 is can be clustered as high profile store. If there is uniformity in the dataset as per shoe type. Then fraudulent activity lies in shop 78 and shop 42, especially the user 607 being the main actor.\n",
    "\n",
    "\n",
    "I would report median average sales for this data. Which is 284\n"
   ],
   "metadata": {
    "collapsed": false,
    "pycharm": {
     "name": "#%% md\n"
    }
   }
  },
  {
   "cell_type": "markdown",
   "source": [
    "# 2) SQL CHALLENGE"
   ],
   "metadata": {
    "collapsed": false,
    "pycharm": {
     "name": "#%% md\n"
    }
   }
  },
  {
   "cell_type": "markdown",
   "source": [
    " For this question you’ll need to use SQL. Follow this link to access the data set required for the challenge. Please use queries to answer the following questions. Paste your queries along with your final numerical answers below.\n",
    "\n",
    "## How many orders were shipped by Speedy Express in total?\n",
    "> SELECT COUNT(OrderID) FROM Orders\n",
    "   WHERE ShipperID =\n",
    "   (SELECT ShipperID FROM Shippers\n",
    "   WHERE ShipperName = 'Speedy Express');\n",
    "\n",
    "**The answer is 54**\n",
    "\n",
    "\n",
    "## What is the last name of the employee with the most orders?\n",
    ">SELECT LastName FROM Employees\n",
    "  WHERE EmployeeID = (SELECT TOP 1 EmployeeID FROM\n",
    "  (SELECT EmployeeID, COUNT(OrderID) FROM Orders GROUP BY EmployeeID ORDER BY COUNT(OrderID) DESC));\n",
    "\n",
    "**The answer is Peacock**\n",
    "\n",
    "## What product was ordered the most by customers in Germany?\n",
    "\n",
    ">SELECT ProductName FROM Products\n",
    "WHERE ProductID IN (SELECT TOP 1 ProductID FROM OrderDetails\n",
    "WHERE OrderID IN (\n",
    "SELECT OrderID FROM Orders\n",
    "WHERE CustomerID IN (SELECT CustomerID FROM Customers\n",
    "WHERE Country = 'Germany'))\n",
    "GROUP BY ProductID\n",
    "ORDER BY COUNT(OrderDetailID) DESC);\n",
    "\n",
    "**The answer is Gorgonzola Telino**"
   ],
   "metadata": {
    "collapsed": false,
    "pycharm": {
     "name": "#%% md\n"
    }
   }
  }
 ],
 "metadata": {
  "kernelspec": {
   "display_name": "Python 3",
   "language": "python",
   "name": "python3"
  },
  "language_info": {
   "codemirror_mode": {
    "name": "ipython",
    "version": 2
   },
   "file_extension": ".py",
   "mimetype": "text/x-python",
   "name": "python",
   "nbconvert_exporter": "python",
   "pygments_lexer": "ipython2",
   "version": "2.7.6"
  }
 },
 "nbformat": 4,
 "nbformat_minor": 0
}